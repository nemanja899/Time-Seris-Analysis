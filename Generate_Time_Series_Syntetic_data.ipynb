{
  "cells": [
    {
      "cell_type": "markdown",
      "metadata": {
        "id": "view-in-github",
        "colab_type": "text"
      },
      "source": [
        "<a href=\"https://colab.research.google.com/github/nemanja899/Time-Seris-Analysis/blob/master/Generate_Time_Series_Syntetic_data.ipynb\" target=\"_parent\"><img src=\"https://colab.research.google.com/assets/colab-badge.svg\" alt=\"Open In Colab\"/></a>"
      ]
    },
    {
      "cell_type": "code",
      "execution_count": null,
      "metadata": {
        "id": "gqWabzlJ63nL"
      },
      "outputs": [],
      "source": [
        "import matplotlib.pyplot as plt\n",
        "import numpy as np"
      ]
    },
    {
      "cell_type": "markdown",
      "metadata": {
        "id": "20wPCynItW0Z"
      },
      "source": [
        "## Plot Utilities\n",
        "\n",
        "Utility funkcija za plotovanje run chart-a vremenskih serija. Kod koristi vizulelizuje numpy niz u graf koristeci Pyplot bliblioteku. Na X osi se nalaze koraci vremenske serije. Brojevi na x osi predstavljau cisto cele brojeve, mogu recimo da budu godine, dani , sati itd... Na Y-osi ce se nalaziti odgovarajuce vrednosti po vremenu."
      ]
    },
    {
      "cell_type": "code",
      "execution_count": null,
      "metadata": {
        "id": "sJwA96JU00pW"
      },
      "outputs": [],
      "source": [
        "def plot_series(time, series, format=\"-\", start=0, end=None, label=None):\n",
        "    \"\"\"\n",
        "    Vizuelizuje vremensku seriju\n",
        "\n",
        "    Args:\n",
        "      time (array of int) - sadrzi korake serije\n",
        "      series (array of int) - sadrzi vrednosti serije u koraku\n",
        "      format (string) - stil linije za plotovanje\n",
        "      start (int) - pocetna vrednost grafa\n",
        "      end (int) - poslednja vrednost grafa\n",
        "      label (list of strings)- tagovi za legendu\n",
        "    \"\"\"\n",
        "\n",
        "    # Velicina dimenzija\n",
        "    plt.figure(figsize=(10, 6))\n",
        "\n",
        "    # Plotuje podatke\n",
        "    plt.plot(time[start:end], series[start:end], format)\n",
        "\n",
        "    \n",
        "    plt.xlabel(\"Time\")\n",
        "\n",
        "   \n",
        "    plt.ylabel(\"Value\")\n",
        "\n",
        "    if label:\n",
        "      plt.legend(fontsize=14, labels=label)\n",
        "\n",
        "    # Postavlja mrezu na graf\n",
        "    plt.grid(True)\n",
        "\n",
        "    # prikazuje nacrtani grafikon\n",
        "    plt.show()"
      ]
    },
    {
      "cell_type": "markdown",
      "metadata": {
        "id": "yVo6CcpRaW7u"
      },
      "source": [
        "## Trend\n",
        "\n",
        "Trend opisuje globalnu tendenciju da vrednosti idu gore ili dole kako vreme otice. Datim vremenskim periodom mozemo videti da li graf prati gornji ili donji trend ili samo ravna linija.\n",
        "\n",
        "Sledeca funkcija crta trend kao pravu liniju. \n",
        "Y=slope*X+constant"
      ]
    },
    {
      "cell_type": "code",
      "execution_count": null,
      "metadata": {
        "id": "t30Ts2KjiOIY"
      },
      "outputs": [],
      "source": [
        "def trend(time, slope=0,constant=0):\n",
        "    \"\"\"\n",
        "   Generise sinteticku seriju koja pravi pravu liniju\n",
        "\n",
        "    Args:\n",
        "      time (array of int) - vremenske korake\n",
        "      slope (float) - koliki ce biti nagib\n",
        "\n",
        "    Returns:\n",
        "      series (array of float) - vrednosti koje prate pravu liniju\n",
        "    \"\"\"\n",
        "\n",
        "    \n",
        "    series = slope * time+constant\n",
        "\n",
        "    return series"
      ]
    },
    {
      "cell_type": "code",
      "execution_count": null,
      "metadata": {
        "id": "BLt-pLiZ0nfB"
      },
      "outputs": [],
      "source": [
        "# Generisemo koraka. Recimo jedan korak je jedan dan (365 dana)\n",
        "time = np.arange(365)\n",
        "\n",
        "# Definisemo ugao nagiba,, moze da bude promenljivo!!\n",
        "slope = 0.3\n",
        "constant=0\n",
        "\n",
        "# Generisemo funkciju nagiba\n",
        "series = trend(time, slope,constant)\n",
        "\n",
        "# Prikaz rezultata\n",
        "plot_series(time, series, label=[f'slope={slope}'])"
      ]
    },
    {
      "cell_type": "markdown",
      "metadata": {
        "id": "WKD4nh9sauBf"
      },
      "source": [
        "## Sezonalnost\n",
        "\n",
        "Jos jedan atribut vremenske serije je sezonalnost. Ovo je ponavljajuci patern koji se ponovo pojavljuje nakon nekog vremenskog intervala.\n",
        "\n",
        "Moze da se koristi funkcija ispod za generisanje nekog oscilovanja vremenske serije."
      ]
    },
    {
      "cell_type": "code",
      "execution_count": null,
      "metadata": {
        "id": "89gdEnPY1Niy"
      },
      "outputs": [],
      "source": [
        "def seasonal_pattern(season_time):\n",
        "    \"\"\"\n",
        "    Pravi jedan patern\n",
        "    Args:\n",
        "      season_time (array of float) - sadrzi merenja tokom vemena\n",
        "\n",
        "    Returns:\n",
        "      data_pattern (array of float) -  vraca novu generisanu seriju sa sezonalnoscu\n",
        "    \"\"\"\n",
        "\n",
        "    # Generisemo neki patern sa nekim arbitrarnim vrednostima ovo moze da se menja\n",
        "    data_pattern = np.where(season_time < 0.62,\n",
        "                    np.cos(season_time * 2 * np.e),\n",
        "                    1 / np.exp(np.e * season_time))\n",
        "    \n",
        "    return data_pattern\n",
        "\n",
        "def seasonality(time, period, amplitude=1, phase=0):\n",
        "    \"\"\"\n",
        "   Ponavlja iste paterne\n",
        "\n",
        "    Args:\n",
        "      time (array of int) - vreme koraka\n",
        "      period (int) - broj koraka nakong cega patern serije ponavlja\n",
        "      amplitude (int) - najveca izmerena vrednost u priodu sluzi da se podignu vrednosti serije\n",
        "      phase (int) - broj koraka da se pomere izmerene vrednosti\n",
        "\n",
        "    Returns:\n",
        "      data_pattern (array of float) - vraca seriju sklaliranu amplitudom\n",
        "    \"\"\"\n",
        "    \n",
        "    # pravi vrednosti serije izmedju 0 i 1 , prvo racuna ostatak, a zatim racuna procenat ostatka tj procenat u toj sezoni dokle se stiglo\n",
        "    season_time = ((time + phase) % period) / period\n",
        "\n",
        "   \n",
        "    data_pattern = amplitude * seasonal_pattern(season_time)\n",
        "\n",
        "    return data_pattern"
      ]
    },
    {
      "cell_type": "code",
      "execution_count": null,
      "metadata": {
        "id": "7kaNezUk1S9l"
      },
      "outputs": [],
      "source": [
        "# Generise korake recimo 5 godina plus jedan dan\n",
        "time = np.arange(5 * 365 + 1)\n",
        "\n",
        "# parametri\n",
        "period = 365\n",
        "amplitude = 45\n",
        "\n",
        "# generise sezonalnost\n",
        "series = seasonality(time, period=period, amplitude=amplitude)\n",
        "\n",
        "plot_series(time, series)"
      ]
    },
    {
      "cell_type": "markdown",
      "metadata": {
        "id": "-Vo433h0bDLD"
      },
      "source": [
        "Vremesnka serija moze da sadrzi i trend i sezonu. Na primer temperatura koja se godisnje ponavlja, a zbog uticaja staklene baste ima trend nagore.\n",
        "\n",
        "Primer dole pokazuje kombinaciju trenda i sezone"
      ]
    },
    {
      "cell_type": "code",
      "execution_count": null,
      "metadata": {
        "id": "AyqFdaIN1oy5"
      },
      "outputs": [],
      "source": [
        "#Parametri\n",
        "slope = 0.01\n",
        "period = 365\n",
        "amplitude = 30\n",
        "\n",
        "#Generisanje serije , naime mozemo samo da saberemo vrednosti dve funkcije trenda i sezionalnosti\n",
        "series = trend(time, slope) + seasonality(time, period=period, amplitude=amplitude)\n",
        "\n",
        "plot_series(time, series)"
      ]
    },
    {
      "cell_type": "markdown",
      "metadata": {
        "id": "YVdJ2jNN8OHk"
      },
      "source": [
        "## Beli sum\n",
        "\n",
        "U praksi , rekte vremenske serije imace gladak signal. Uglavnom imaju neki sum preko signala. "
      ]
    },
    {
      "cell_type": "code",
      "execution_count": null,
      "metadata": {
        "id": "3kD3_zjVscBH"
      },
      "outputs": [],
      "source": [
        "def noise(time, noise_level=1, seed=None):\n",
        "    \"\"\"Generise sum normalne distribucije\n",
        "\n",
        "    Args:\n",
        "      time (array of int) - koraci u vremenu\n",
        "      noise_level (float) - faktor koji se mnozi za vrednostima iz normalne raspodele\n",
        "      seed (int) - generator slucajnih brojeva\n",
        "\n",
        "    Returns:\n",
        "      noise (array of float) -  beli sum\n",
        "\n",
        "    \"\"\"\n",
        "\n",
        "    # inicijalizacija generatora slucajnih brojeva \n",
        "    rnd = np.random.RandomState(seed)\n",
        "\n",
        "    # slucajni brojevi sa normalnom raspodelom koji se mnoze sa faktorom\n",
        "    noise = rnd.randn(len(time)) * noise_level\n",
        "    \n",
        "    return noise\n"
      ]
    },
    {
      "cell_type": "code",
      "execution_count": null,
      "metadata": {
        "id": "aLvBwrKrtDzo"
      },
      "outputs": [],
      "source": [
        "# faktor buke\n",
        "noise_level = 6\n",
        "\n",
        "# generise beli sum\n",
        "noise_signal = noise(time, noise_level=noise_level, seed=39)\n",
        "\n",
        "plot_series(time, noise_signal)"
      ]
    },
    {
      "cell_type": "markdown",
      "metadata": {
        "id": "GHa6gicgbL74"
      },
      "source": [
        "Sada da dodamo sve i trend i sezonalnost i beli sum."
      ]
    },
    {
      "cell_type": "code",
      "execution_count": null,
      "metadata": {
        "id": "2bRDx8K816N9"
      },
      "outputs": [],
      "source": [
        "# sabiramo dve funkcije, sabira elemenat po elemenat , moraju biti iste duzine\n",
        "series += noise_signal\n",
        "\n",
        "plot_series(time, series)"
      ]
    },
    {
      "cell_type": "markdown",
      "metadata": {
        "id": "IfIaJEgmq0FV"
      },
      "source": [
        "Kao sto mozemo da vidimo i dalje ima blagi trend nagore ali ima vise varijacija izmedju koraka zbog dodatog suma."
      ]
    },
    {
      "cell_type": "markdown",
      "metadata": {
        "id": "SdNrh28JrHyj"
      },
      "source": [
        "## Autokorelacija\n",
        "\n",
        "Vremenska serija moze imati i autokorelaciju. To znaci da mera jednog koraka moze da zavisi od merenja iz vise prethodnih. Tako da sadasnje vreme je neka funkcija nekih proslih koraka. "
      ]
    },
    {
      "cell_type": "code",
      "execution_count": null,
      "metadata": {
        "id": "GICxGswL2aqK"
      },
      "outputs": [],
      "source": [
        "def autocorrelation_2_order(time, amplitude, seed=None):\n",
        "    \"\"\"\n",
        "    Generise autokorelacione podatke\n",
        "\n",
        "    Args:\n",
        "      time (array of int) - vremenske korake\n",
        "      amplitude (float) - faktor skaliranja\n",
        "      seed (int) - generator slucajnih brojeva\n",
        "\n",
        "    Returns:\n",
        "      ar (array of float) - autokorelacioni podaci\n",
        "    \"\"\"\n",
        "\n",
        "    \n",
        "    rnd = np.random.RandomState(seed)\n",
        "    \n",
        "    #Povecavamo velicinu niza jer prvih 60 brojeva nije korelisano, tim brojevima dodelicemo neku konstantu da nam pomogne za racunanje\n",
        "    #u sledecoj autokorelaciji , zatim cemo ih odbaciti\n",
        "    # generisanje niza sa normalnom raspodelom\n",
        "    ar = rnd.randn(len(time) + 60)\n",
        "    \n",
        "    # Postavljanje prvih 50 brojeva kao konstanta moze da se stavi bilo koji broj\n",
        "    ar[:60] = 50\n",
        "    \n",
        "    # Posto je ovo autokorelacija reda 2 , biramo dva faktora phi. Napomena faktori moraju biti izmedju -1 i 1 ne ukljucujuci ih\n",
        "    # jer ako dobiju suprutnu vrenost nece konvergirati vec ce teziti vremenom beskonacnosti\n",
        "    phi1 = 0.5\n",
        "    phi2 = -0.2\n",
        "\n",
        "    # Autokorelisati  element od 60 pa nadalje sa nekim proizvoljnim merama iz proslosti recimo (t-45) i (t-24)\n",
        "    # ,gde je t trenutni korak koji zelimo izracunati na osnovu prethodnih\n",
        "    # ovde je formula x(t)=phi1*x(t-45)+phi2*(t-24)+constanta+et\n",
        "    # et je vrednost suma koja je generisana rnd.randn(len(time) + 60) komandom i koja se sabira sa odgovarajucim vrednostima, ovde je konstanta jednaka nuli\n",
        "    for step in range(60, len(time) + 60):\n",
        "        ar[step] += phi1 * ar[step - 45]\n",
        "        ar[step] += phi2 * ar[step - 24]\n",
        "    \n",
        "    #vracamo autokorelacionu seriju od 60 koraka nadalje i mnozimo je faktorom visine\n",
        "    ar = ar[60:] * amplitude\n",
        "\n",
        "    return ar"
      ]
    },
    {
      "cell_type": "code",
      "execution_count": null,
      "metadata": {
        "id": "MVM204K66bnC"
      },
      "outputs": [],
      "source": [
        "\n",
        "series = autocorrelation_2_order(time, amplitude=16, seed=39)\n",
        "\n",
        "# Prikaz prvih 150 vrednosti da bi se autokorelacija bolje prikazala\n",
        "plot_series(time[:150], series[:150])"
      ]
    },
    {
      "cell_type": "markdown",
      "metadata": {
        "id": "0auuzEwJCcvO"
      },
      "source": [
        "Autokorelacija prvog reda x(t)=phi*x(t-to)+et+constanta"
      ]
    },
    {
      "cell_type": "code",
      "execution_count": null,
      "metadata": {
        "id": "SLRo57dpFChw"
      },
      "outputs": [],
      "source": [
        "def autocorrelation_1_order(time, amplitude, seed=None):\n",
        "    \"\"\"\n",
        "    Autokorelacija prvog reda\n",
        "\n",
        "    Args:\n",
        "      time (array of int) - koraci serije\n",
        "      amplitude (float) - faktor skaliranja\n",
        "      seed (int) - generator slucajnih brojeva\n",
        "\n",
        "    Returns:\n",
        "      ar (array of float) - autokorelacioni podaci\n",
        "    \"\"\"\n",
        "\n",
        "    \n",
        "    rnd = np.random.RandomState(seed)\n",
        "\n",
        "    # Sada naredna vrednost zavisi direktno od prethodne nekom funkcijom\n",
        "    ar = rnd.randn(len(time) + 1)\n",
        "\n",
        "    # Define scaling factor\n",
        "    phi = 0.8\n",
        "\n",
        "    # Auto korelirati 1 element pa nadalje\n",
        "    # (t-1)\n",
        "    for step in range(1, len(time) + 1):\n",
        "        ar[step] += phi * ar[step - 1]\n",
        "    \n",
        "    ar = ar[1:] * amplitude\n",
        "    \n",
        "    return ar"
      ]
    },
    {
      "cell_type": "code",
      "execution_count": null,
      "metadata": {
        "id": "SRvSNVjJFHDk"
      },
      "outputs": [],
      "source": [
        "# Serija sa autokorelacijom reda 1\n",
        "series = autocorrelation_1_order(time, amplitude=10, seed=42)\n",
        "\n",
        "# Plot the results\n",
        "plot_series(time[:200], series[:200])"
      ]
    },
    {
      "cell_type": "markdown",
      "metadata": {
        "id": "g_VymebiN7df"
      },
      "source": [
        "Jos jedan tip korelacije na koje se moze naici su serije koje se urusavaju preditkivno nakon nasumicnih impulsa."
      ]
    },
    {
      "cell_type": "code",
      "execution_count": null,
      "metadata": {
        "id": "iBfpCbu6jsaB"
      },
      "outputs": [],
      "source": [
        "def impulses(time, num_impulses, amplitude=1, seed=None):\n",
        "    \"\"\"\n",
        "   Generise slucajne impulse\n",
        "\n",
        "    Args:\n",
        "      time (array of int) - vremenski koraci\n",
        "      num_impulses (int) - koliko impulsa da se generise\n",
        "      amplitude (float) - skalirani faktor\n",
        "      seed (int) - generator slucajnoh brojeva\n",
        "\n",
        "    Returns:\n",
        "      series (array of float) - niz koji sadrzi impulse\n",
        "    \"\"\"\n",
        "\n",
        "    \n",
        "    rnd = np.random.RandomState(seed)\n",
        "\n",
        "    # Generise slucajne cele brojeve tj indekse u kom vremenu ce se naci impulsi\n",
        "    impulse_indices = rnd.randint(len(time), size=num_impulses)\n",
        "\n",
        "    #niz nula sa velicinom koliko ima i vremenskih koraka\n",
        "    series = np.zeros(len(time))\n",
        "\n",
        "    # dodeljivanje vrednosti impulsa u impulsnim indeksima koje smo prethodno napravili. 0+(normalna_rasp*faktor)= vrednost impulsa\n",
        "    for index in impulse_indices:\n",
        "        series[index] += rnd.rand() * amplitude\n",
        "\n",
        "    return series    "
      ]
    },
    {
      "cell_type": "code",
      "execution_count": null,
      "metadata": {
        "id": "BJ1kXWNLg_BD"
      },
      "outputs": [],
      "source": [
        "# Generisanje slucajnih impulsa\n",
        "impulses_signal = impulses(time, num_impulses=15, seed=42)\n",
        "\n",
        "\n",
        "plot_series(time, impulses_signal)"
      ]
    },
    {
      "cell_type": "markdown",
      "metadata": {
        "id": "5wBGIJVDHuxF"
      },
      "source": [
        "Sada kada imamo vrednosti impulsa mozemo da napravimo funkciju urusavanja(decay)"
      ]
    },
    {
      "cell_type": "code",
      "execution_count": null,
      "metadata": {
        "id": "yW91NpqhH1OT"
      },
      "outputs": [],
      "source": [
        "def autocorrelation_impulses(source, phis):\n",
        "    \"\"\"\n",
        "    Generise autokorelacionu seriju od impulsa\n",
        "\n",
        "    Args:\n",
        "      source (array of float) - vremenska serija sa impulsima\n",
        "      phis (dict) - dictionary koji sadrzi lag i faktor urusavanja\n",
        "\n",
        "    Returns:\n",
        "      ar (array of float) - autokorelacioni podaci\n",
        "    \"\"\"\n",
        "\n",
        "    # Kopiramo izvor sa vrednostima impulsa\n",
        "    ar = source.copy()\n",
        "\n",
        "    # Pravimo novu seriju koja ima faktor urusavanja\n",
        "    for step, value in enumerate(source):\n",
        "        for lag, phi in phis.items():\n",
        "            if step - lag > 0:\n",
        "              ar[step] += phi * ar[step - lag]\n",
        "\n",
        "    return ar"
      ]
    },
    {
      "cell_type": "code",
      "execution_count": null,
      "metadata": {
        "id": "KwPD3dgOD80H"
      },
      "outputs": [],
      "source": [
        "# Koristi impulse iz prethodnog koraka i pravi seriju sa urusavanjem\n",
        "# Autokorelacija reda 1, lag je jedan sto znaci da je naredna vrednost 0.97* prethodna vrednost\n",
        "series = autocorrelation_impulses(impulses_signal, {1: 0.97})\n",
        "\n",
        "plot_series(time, series)"
      ]
    },
    {
      "cell_type": "markdown",
      "metadata": {
        "id": "2Rs8jUawKUo6"
      },
      "source": [
        "Jos jedan primer autokorelacije reda 2 sa lagom jedan i 45 `t-1` i `t-45`:"
      ]
    },
    {
      "cell_type": "code",
      "execution_count": null,
      "metadata": {
        "id": "Hj0kK0cMJuXY"
      },
      "outputs": [],
      "source": [
        "# Use the impulses from the previous section and generate autocorrelated data\n",
        "series = autocorrelation_impulses(impulses_signal, {1: 0.65, 45: 0.3})\n",
        "\n",
        "# Plot the results\n",
        "plot_series(time, series)"
      ]
    },
    {
      "cell_type": "markdown",
      "metadata": {
        "id": "zMd5D42fKRNq"
      },
      "source": [
        "Autokorelacioni podaci mogu da imaju i trend"
      ]
    },
    {
      "cell_type": "code",
      "execution_count": null,
      "metadata": {
        "id": "9MZ2sCmM8XPU"
      },
      "outputs": [],
      "source": [
        "# Autokorelacioni podaci sa trendom\n",
        "series = autocorrelation_1_order(time, 10, seed=42) + trend(time, 2)\n",
        "\n",
        "plot_series(time[:200], series[:200])"
      ]
    },
    {
      "cell_type": "markdown",
      "metadata": {
        "id": "tLVe-DNqKgKk"
      },
      "source": [
        "Slicno i sezonalnost moze da se doda na podatke"
      ]
    },
    {
      "cell_type": "code",
      "execution_count": null,
      "metadata": {
        "id": "hqx5et9Bzp5e"
      },
      "outputs": [],
      "source": [
        "# Sezonalnost sa trendom i autokorelacijom i belim sumom\n",
        "series = autocorrelation_1_order(time, 10, seed=42) + seasonality(time, period=60, amplitude=150) + trend(time, 0.5)\n",
        "\n",
        "# Plot the results\n",
        "plot_series(time[:200], series[:200])\n"
      ]
    },
    {
      "cell_type": "markdown",
      "metadata": {
        "id": "dtxPKnNfLAhl"
      },
      "source": [
        "## Ne-stacionarne vremenske serije\n",
        "\n",
        "Moguce je i da vremenske seriju prekinu predvidjeni pater. Veliki dogadjaji mogu da budu uzrok tome ili neko sezonsko ponasanje."
      ]
    },
    {
      "cell_type": "code",
      "execution_count": null,
      "metadata": {
        "id": "qb5echI7rHqA"
      },
      "outputs": [],
      "source": [
        "# Slicna serija kao gore sa sezonama, autokorelacijom reda 1, trendom i belim sumom\n",
        "series = autocorrelation_1_order(time, 10, seed=42) + seasonality(time, period=60, amplitude=150) + trend(time, 0.5)\n",
        "\n",
        "# generisanje nove serije sa nekim negativnim trendom. Broj na kraju je arbitraran da bi se nadovezao lepo na seriju\n",
        "# eksperimentisanjem se doslo do njega\n",
        "series2 = autocorrelation_1_order(time, 5, seed=42) + seasonality(time, period=30, amplitude=5) + trend(time, -1.8) + 500\n",
        "\n",
        "#Uzimanje prvih dvesta podataka od druge serije i dodeljivanje prvoj od 200 pa nadalje\n",
        "series[200:] = series2[200:]\n",
        "\n",
        "plot_series(time[:300], series[:300])"
      ]
    }
  ],
  "metadata": {
    "colab": {
      "private_outputs": true,
      "provenance": [],
      "include_colab_link": true
    },
    "kernelspec": {
      "display_name": "Python 3",
      "language": "python",
      "name": "python3"
    },
    "language_info": {
      "codemirror_mode": {
        "name": "ipython",
        "version": 3
      },
      "file_extension": ".py",
      "mimetype": "text/x-python",
      "name": "python",
      "nbconvert_exporter": "python",
      "pygments_lexer": "ipython3",
      "version": "3.7.4"
    }
  },
  "nbformat": 4,
  "nbformat_minor": 0
}